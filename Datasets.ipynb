{
 "cells": [
  {
   "cell_type": "code",
   "execution_count": null,
   "id": "08d51ad2",
   "metadata": {},
   "outputs": [],
   "source": [
    "# This website is scrapeable for monthly temperatures, humidity, and pressure\n",
    "url = https://www.timeanddate.com/weather/@1267254/historic?month=4&year=2024"
   ]
  },
  {
   "cell_type": "code",
   "execution_count": 41,
   "id": "8646d8e8",
   "metadata": {},
   "outputs": [],
   "source": [
    "from scipy.io import netcdf\n",
    "import numpy as np\n",
    "import matplotlib\n",
    "import matplotlib.pyplot as plt\n",
    "import xarray as xr\n",
    "import pygrib\n",
    "#import eccodes\n",
    "#import cfgrib"
   ]
  },
  {
   "cell_type": "code",
   "execution_count": 26,
   "id": "016bc83f",
   "metadata": {},
   "outputs": [
    {
     "name": "stderr",
     "output_type": "stream",
     "text": [
      "/Users/zacharymeurer/opt/anaconda3/lib/python3.9/site-packages/scipy/io/_netcdf.py:304: RuntimeWarning: Cannot close a netcdf_file opened with mmap=True, when netcdf_variables or arrays referring to its data still exist. All data arrays obtained from such files refer directly to data on disk, and must be copied before the file can be cleanly closed. (See netcdf_file docstring for more information on mmap.)\n",
      "  warnings.warn((\n"
     ]
    },
    {
     "data": {
      "text/plain": [
       "(array([-9.99000000e+02,  0.00000000e+00,  1.00000001e-01, ...,\n",
       "         9.19281799e+02,  9.21060242e+02,  9.79144775e+02]),\n",
       " array([4544615, 1277564,      19, ...,       1,       1,       1]))"
      ]
     },
     "execution_count": 26,
     "metadata": {},
     "output_type": "execute_result"
    }
   ],
   "source": [
    "from scipy.io import netcdf_file\n",
    "np.unique(netcdf_file('nc_files/'+'RF25_ind2022_rfp25.nc','r').variables['RAINFALL'][:], return_counts=True)"
   ]
  },
  {
   "cell_type": "code",
   "execution_count": 27,
   "id": "7970d10c",
   "metadata": {},
   "outputs": [],
   "source": [
    "# data from https://www.imdpune.gov.in/cmpg/Griddata/Rainfall_25_NetCDF.html\n",
    "rf2022 = netcdf_file('nc_files/RF25_ind2022_rfp25.nc','r').variables['RAINFALL'][:]"
   ]
  },
  {
   "cell_type": "code",
   "execution_count": 28,
   "id": "45e88c7e",
   "metadata": {},
   "outputs": [
    {
     "data": {
      "text/plain": [
       "(365, 129, 135)"
      ]
     },
     "execution_count": 28,
     "metadata": {},
     "output_type": "execute_result"
    }
   ],
   "source": [
    "rf2022.shape"
   ]
  },
  {
   "cell_type": "code",
   "execution_count": 29,
   "id": "8de17c22",
   "metadata": {},
   "outputs": [
    {
     "data": {
      "text/plain": [
       "array([[[-999., -999., -999., ..., -999., -999., -999.],\n",
       "        [-999., -999., -999., ..., -999., -999., -999.],\n",
       "        [-999., -999., -999., ..., -999., -999., -999.],\n",
       "        ...,\n",
       "        [-999., -999., -999., ..., -999., -999., -999.],\n",
       "        [-999., -999., -999., ..., -999., -999., -999.],\n",
       "        [-999., -999., -999., ..., -999., -999., -999.]],\n",
       "\n",
       "       [[-999., -999., -999., ..., -999., -999., -999.],\n",
       "        [-999., -999., -999., ..., -999., -999., -999.],\n",
       "        [-999., -999., -999., ..., -999., -999., -999.],\n",
       "        ...,\n",
       "        [-999., -999., -999., ..., -999., -999., -999.],\n",
       "        [-999., -999., -999., ..., -999., -999., -999.],\n",
       "        [-999., -999., -999., ..., -999., -999., -999.]],\n",
       "\n",
       "       [[-999., -999., -999., ..., -999., -999., -999.],\n",
       "        [-999., -999., -999., ..., -999., -999., -999.],\n",
       "        [-999., -999., -999., ..., -999., -999., -999.],\n",
       "        ...,\n",
       "        [-999., -999., -999., ..., -999., -999., -999.],\n",
       "        [-999., -999., -999., ..., -999., -999., -999.],\n",
       "        [-999., -999., -999., ..., -999., -999., -999.]],\n",
       "\n",
       "       ...,\n",
       "\n",
       "       [[-999., -999., -999., ..., -999., -999., -999.],\n",
       "        [-999., -999., -999., ..., -999., -999., -999.],\n",
       "        [-999., -999., -999., ..., -999., -999., -999.],\n",
       "        ...,\n",
       "        [-999., -999., -999., ..., -999., -999., -999.],\n",
       "        [-999., -999., -999., ..., -999., -999., -999.],\n",
       "        [-999., -999., -999., ..., -999., -999., -999.]],\n",
       "\n",
       "       [[-999., -999., -999., ..., -999., -999., -999.],\n",
       "        [-999., -999., -999., ..., -999., -999., -999.],\n",
       "        [-999., -999., -999., ..., -999., -999., -999.],\n",
       "        ...,\n",
       "        [-999., -999., -999., ..., -999., -999., -999.],\n",
       "        [-999., -999., -999., ..., -999., -999., -999.],\n",
       "        [-999., -999., -999., ..., -999., -999., -999.]],\n",
       "\n",
       "       [[-999., -999., -999., ..., -999., -999., -999.],\n",
       "        [-999., -999., -999., ..., -999., -999., -999.],\n",
       "        [-999., -999., -999., ..., -999., -999., -999.],\n",
       "        ...,\n",
       "        [-999., -999., -999., ..., -999., -999., -999.],\n",
       "        [-999., -999., -999., ..., -999., -999., -999.],\n",
       "        [-999., -999., -999., ..., -999., -999., -999.]]])"
      ]
     },
     "execution_count": 29,
     "metadata": {},
     "output_type": "execute_result"
    }
   ],
   "source": [
    "rf2022"
   ]
  },
  {
   "cell_type": "code",
   "execution_count": null,
   "id": "dc5ffcd9",
   "metadata": {},
   "outputs": [],
   "source": [
    "for i in range(2014)"
   ]
  },
  {
   "cell_type": "code",
   "execution_count": 17,
   "id": "14cf6838",
   "metadata": {},
   "outputs": [
    {
     "name": "stderr",
     "output_type": "stream",
     "text": [
      "/var/folders/g7/1_kwfbnd73qfqrms900t1n040000gn/T/ipykernel_2932/668660447.py:1: DeprecationWarning: Please use `NetCDFFile` from the `scipy.io` namespace, the `scipy.io.netcdf` namespace is deprecated.\n",
      "  file2read = netcdf.NetCDFFile('nc_files/'+'RF25_ind2022_rfp25.nc','r')\n",
      "/Users/zacharymeurer/opt/anaconda3/lib/python3.9/site-packages/scipy/io/_netcdf.py:304: RuntimeWarning: Cannot close a netcdf_file opened with mmap=True, when netcdf_variables or arrays referring to its data still exist. All data arrays obtained from such files refer directly to data on disk, and must be copied before the file can be cleanly closed. (See netcdf_file docstring for more information on mmap.)\n",
      "  warnings.warn((\n"
     ]
    }
   ],
   "source": [
    "file2read = netcdf.NetCDFFile('nc_files/'+'RF25_ind2022_rfp25.nc','r')\n",
    "#temp = file2read.variables['U'] # var can be 'Theta', 'S', 'V', 'U' etc..\n",
    "#data = temp[:]*1\n",
    "#file2read.close()\n",
    "rainfall = file2read.variables['RAINFALL']"
   ]
  },
  {
   "cell_type": "code",
   "execution_count": null,
   "id": "ca01c260",
   "metadata": {},
   "outputs": [],
   "source": []
  },
  {
   "cell_type": "code",
   "execution_count": 31,
   "id": "50c0c8d7",
   "metadata": {},
   "outputs": [
    {
     "name": "stdout",
     "output_type": "stream",
     "text": [
      "Collecting pygrib==2.0.1\n",
      "  Downloading pygrib-2.0.1.tar.gz (19.5 MB)\n",
      "\u001b[2K     \u001b[90m━━━━━━━━━━━━━━━━━━━━━━━━━━━━━━━━━━━━━━━━\u001b[0m \u001b[32m19.5/19.5 MB\u001b[0m \u001b[31m9.7 MB/s\u001b[0m eta \u001b[36m0:00:00\u001b[0m:00:01\u001b[0m00:01\u001b[0m\n",
      "\u001b[?25h  Preparing metadata (setup.py) ... \u001b[?25lerror\n",
      "  \u001b[1;31merror\u001b[0m: \u001b[1msubprocess-exited-with-error\u001b[0m\n",
      "  \n",
      "  \u001b[31m×\u001b[0m \u001b[32mpython setup.py egg_info\u001b[0m did not run successfully.\n",
      "  \u001b[31m│\u001b[0m exit code: \u001b[1;36m1\u001b[0m\n",
      "  \u001b[31m╰─>\u001b[0m \u001b[31m[20 lines of output]\u001b[0m\n",
      "  \u001b[31m   \u001b[0m Traceback (most recent call last):\n",
      "  \u001b[31m   \u001b[0m   File \"/private/var/folders/g7/1_kwfbnd73qfqrms900t1n040000gn/T/pip-install-u6hb3zxp/pygrib_06c71a394796406b806644b93cfc9e6a/setup.py\", line 18, in <module>\n",
      "  \u001b[31m   \u001b[0m     import pyproj\n",
      "  \u001b[31m   \u001b[0m ModuleNotFoundError: No module named 'pyproj'\n",
      "  \u001b[31m   \u001b[0m \n",
      "  \u001b[31m   \u001b[0m During handling of the above exception, another exception occurred:\n",
      "  \u001b[31m   \u001b[0m \n",
      "  \u001b[31m   \u001b[0m Traceback (most recent call last):\n",
      "  \u001b[31m   \u001b[0m   File \"/private/var/folders/g7/1_kwfbnd73qfqrms900t1n040000gn/T/pip-install-u6hb3zxp/pygrib_06c71a394796406b806644b93cfc9e6a/setup.py\", line 21, in <module>\n",
      "  \u001b[31m   \u001b[0m     from mpl_toolkits.basemap import pyproj\n",
      "  \u001b[31m   \u001b[0m ModuleNotFoundError: No module named 'mpl_toolkits.basemap'\n",
      "  \u001b[31m   \u001b[0m \n",
      "  \u001b[31m   \u001b[0m During handling of the above exception, another exception occurred:\n",
      "  \u001b[31m   \u001b[0m \n",
      "  \u001b[31m   \u001b[0m Traceback (most recent call last):\n",
      "  \u001b[31m   \u001b[0m   File \"<string>\", line 2, in <module>\n",
      "  \u001b[31m   \u001b[0m   File \"<pip-setuptools-caller>\", line 34, in <module>\n",
      "  \u001b[31m   \u001b[0m   File \"/private/var/folders/g7/1_kwfbnd73qfqrms900t1n040000gn/T/pip-install-u6hb3zxp/pygrib_06c71a394796406b806644b93cfc9e6a/setup.py\", line 23, in <module>\n",
      "  \u001b[31m   \u001b[0m     raise ImportError(\"either pyproj or basemap required\")\n",
      "  \u001b[31m   \u001b[0m ImportError: either pyproj or basemap required\n",
      "  \u001b[31m   \u001b[0m \u001b[31m[end of output]\u001b[0m\n",
      "  \n",
      "  \u001b[1;35mnote\u001b[0m: This error originates from a subprocess, and is likely not a problem with pip.\n",
      "\u001b[1;31merror\u001b[0m: \u001b[1mmetadata-generation-failed\u001b[0m\n",
      "\n",
      "\u001b[31m×\u001b[0m Encountered error while generating package metadata.\n",
      "\u001b[31m╰─>\u001b[0m See above for output.\n",
      "\n",
      "\u001b[1;35mnote\u001b[0m: This is an issue with the package mentioned above, not pip.\n",
      "\u001b[1;36mhint\u001b[0m: See above for details.\n",
      "\u001b[?25h"
     ]
    }
   ],
   "source": [
    "!pip install pygrib==2.0.1"
   ]
  },
  {
   "cell_type": "code",
   "execution_count": 71,
   "id": "94379ff8",
   "metadata": {},
   "outputs": [
    {
     "ename": "AttributeError",
     "evalue": "module 'mpl_toolkits' has no attribute 'basemap'",
     "output_type": "error",
     "traceback": [
      "\u001b[0;31m---------------------------------------------------------------------------\u001b[0m",
      "\u001b[0;31mAttributeError\u001b[0m                            Traceback (most recent call last)",
      "Cell \u001b[0;32mIn[71], line 5\u001b[0m\n\u001b[1;32m      3\u001b[0m \u001b[38;5;28;01mimport\u001b[39;00m \u001b[38;5;21;01mmpl_toolkits\u001b[39;00m\n\u001b[1;32m      4\u001b[0m \u001b[38;5;66;03m#from mpl_toolkits.basemap import Basemap\u001b[39;00m\n\u001b[0;32m----> 5\u001b[0m \u001b[43mmpl_toolkits\u001b[49m\u001b[38;5;241;43m.\u001b[39;49m\u001b[43mbasemap\u001b[49m\u001b[38;5;241m.\u001b[39mBasemap()\n",
      "\u001b[0;31mAttributeError\u001b[0m: module 'mpl_toolkits' has no attribute 'basemap'"
     ]
    }
   ],
   "source": [
    "import matplotlib.pyplot as plt\n",
    "import matplotlib.colors as colors\n",
    "import mpl_toolkits\n",
    "#from mpl_toolkits.basemap import Basemap\n",
    "mpl_toolkits.basemap.Basemap()"
   ]
  },
  {
   "cell_type": "code",
   "execution_count": 43,
   "id": "a6ad46b0",
   "metadata": {},
   "outputs": [],
   "source": [
    "grbs = pygrib.open(\"ERA5-Land/adaptor.mars.internal-1717433307.8303945-4823-1-5f80d3ef-530c-474e-8510-ff88a56fdd46.grib\")\n",
    "grb = grbs.select()[0]\n",
    "data = grb.values"
   ]
  },
  {
   "cell_type": "code",
   "execution_count": 89,
   "id": "4e6c9b88",
   "metadata": {},
   "outputs": [
    {
     "data": {
      "text/plain": [
       "74.6"
      ]
     },
     "execution_count": 89,
     "metadata": {},
     "output_type": "execute_result"
    }
   ],
   "source": [
    "grb['longitudeOfFirstGridPointInDegrees']"
   ]
  },
  {
   "cell_type": "code",
   "execution_count": 88,
   "id": "99d17f6b",
   "metadata": {},
   "outputs": [
    {
     "name": "stdout",
     "output_type": "stream",
     "text": [
      "4:Skin reservoir content:m of water equivalent (instant):regular_ll:surface:level 0:fcst time 0 hrs:from 201401011200\n",
      "(43, 27)\n"
     ]
    },
    {
     "data": {
      "text/plain": [
       "<Figure size 1200x800 with 0 Axes>"
      ]
     },
     "metadata": {},
     "output_type": "display_data"
    }
   ],
   "source": [
    "plt.figure(figsize=(12,8))\n",
    "\n",
    "print(grbs.select()[3])\n",
    "print(grbs.select()[3].values.shape)"
   ]
  },
  {
   "cell_type": "code",
   "execution_count": 63,
   "id": "0c196ced",
   "metadata": {
    "scrolled": true
   },
   "outputs": [
    {
     "ename": "ValueError",
     "evalue": "found the following matches with the input file in xarray's IO backends: ['cfgrib']. But their dependencies may not be installed, see:\nhttp://xarray.pydata.org/en/stable/user-guide/io.html \nhttp://xarray.pydata.org/en/stable/getting-started-guide/installing.html",
     "output_type": "error",
     "traceback": [
      "\u001b[0;31m---------------------------------------------------------------------------\u001b[0m",
      "\u001b[0;31mValueError\u001b[0m                                Traceback (most recent call last)",
      "Cell \u001b[0;32mIn[63], line 1\u001b[0m\n\u001b[0;32m----> 1\u001b[0m \u001b[43mxr\u001b[49m\u001b[38;5;241;43m.\u001b[39;49m\u001b[43mload_dataset\u001b[49m\u001b[43m(\u001b[49m\u001b[38;5;124;43m\"\u001b[39;49m\u001b[38;5;124;43mERA5-Land/adaptor.mars.internal-1717433307.8303945-4823-1-5f80d3ef-530c-474e-8510-ff88a56fdd46.grib\u001b[39;49m\u001b[38;5;124;43m\"\u001b[39;49m\u001b[43m)\u001b[49m\n",
      "File \u001b[0;32m~/opt/anaconda3/lib/python3.9/site-packages/xarray/backends/api.py:241\u001b[0m, in \u001b[0;36mload_dataset\u001b[0;34m(filename_or_obj, **kwargs)\u001b[0m\n\u001b[1;32m    238\u001b[0m \u001b[38;5;28;01mif\u001b[39;00m \u001b[38;5;124m\"\u001b[39m\u001b[38;5;124mcache\u001b[39m\u001b[38;5;124m\"\u001b[39m \u001b[38;5;129;01min\u001b[39;00m kwargs:\n\u001b[1;32m    239\u001b[0m     \u001b[38;5;28;01mraise\u001b[39;00m \u001b[38;5;167;01mTypeError\u001b[39;00m(\u001b[38;5;124m\"\u001b[39m\u001b[38;5;124mcache has no effect in this context\u001b[39m\u001b[38;5;124m\"\u001b[39m)\n\u001b[0;32m--> 241\u001b[0m \u001b[38;5;28;01mwith\u001b[39;00m \u001b[43mopen_dataset\u001b[49m\u001b[43m(\u001b[49m\u001b[43mfilename_or_obj\u001b[49m\u001b[43m,\u001b[49m\u001b[43m \u001b[49m\u001b[38;5;241;43m*\u001b[39;49m\u001b[38;5;241;43m*\u001b[39;49m\u001b[43mkwargs\u001b[49m\u001b[43m)\u001b[49m \u001b[38;5;28;01mas\u001b[39;00m ds:\n\u001b[1;32m    242\u001b[0m     \u001b[38;5;28;01mreturn\u001b[39;00m ds\u001b[38;5;241m.\u001b[39mload()\n",
      "File \u001b[0;32m~/opt/anaconda3/lib/python3.9/site-packages/xarray/backends/api.py:479\u001b[0m, in \u001b[0;36mopen_dataset\u001b[0;34m(filename_or_obj, engine, chunks, cache, decode_cf, mask_and_scale, decode_times, decode_timedelta, use_cftime, concat_characters, decode_coords, drop_variables, backend_kwargs, *args, **kwargs)\u001b[0m\n\u001b[1;32m    476\u001b[0m     kwargs\u001b[38;5;241m.\u001b[39mupdate(backend_kwargs)\n\u001b[1;32m    478\u001b[0m \u001b[38;5;28;01mif\u001b[39;00m engine \u001b[38;5;129;01mis\u001b[39;00m \u001b[38;5;28;01mNone\u001b[39;00m:\n\u001b[0;32m--> 479\u001b[0m     engine \u001b[38;5;241m=\u001b[39m \u001b[43mplugins\u001b[49m\u001b[38;5;241;43m.\u001b[39;49m\u001b[43mguess_engine\u001b[49m\u001b[43m(\u001b[49m\u001b[43mfilename_or_obj\u001b[49m\u001b[43m)\u001b[49m\n\u001b[1;32m    481\u001b[0m backend \u001b[38;5;241m=\u001b[39m plugins\u001b[38;5;241m.\u001b[39mget_backend(engine)\n\u001b[1;32m    483\u001b[0m decoders \u001b[38;5;241m=\u001b[39m _resolve_decoders_kwargs(\n\u001b[1;32m    484\u001b[0m     decode_cf,\n\u001b[1;32m    485\u001b[0m     open_backend_dataset_parameters\u001b[38;5;241m=\u001b[39mbackend\u001b[38;5;241m.\u001b[39mopen_dataset_parameters,\n\u001b[0;32m   (...)\u001b[0m\n\u001b[1;32m    491\u001b[0m     decode_coords\u001b[38;5;241m=\u001b[39mdecode_coords,\n\u001b[1;32m    492\u001b[0m )\n",
      "File \u001b[0;32m~/opt/anaconda3/lib/python3.9/site-packages/xarray/backends/plugins.py:152\u001b[0m, in \u001b[0;36mguess_engine\u001b[0;34m(store_spec)\u001b[0m\n\u001b[1;32m    144\u001b[0m \u001b[38;5;28;01melse\u001b[39;00m:\n\u001b[1;32m    145\u001b[0m     error_msg \u001b[38;5;241m=\u001b[39m (\n\u001b[1;32m    146\u001b[0m         \u001b[38;5;124m\"\u001b[39m\u001b[38;5;124mfound the following matches with the input file in xarray\u001b[39m\u001b[38;5;124m'\u001b[39m\u001b[38;5;124ms IO \u001b[39m\u001b[38;5;124m\"\u001b[39m\n\u001b[1;32m    147\u001b[0m         \u001b[38;5;124mf\u001b[39m\u001b[38;5;124m\"\u001b[39m\u001b[38;5;124mbackends: \u001b[39m\u001b[38;5;132;01m{\u001b[39;00mcompatible_engines\u001b[38;5;132;01m}\u001b[39;00m\u001b[38;5;124m. But their dependencies may not be installed, see:\u001b[39m\u001b[38;5;130;01m\\n\u001b[39;00m\u001b[38;5;124m\"\u001b[39m\n\u001b[1;32m    148\u001b[0m         \u001b[38;5;124m\"\u001b[39m\u001b[38;5;124mhttp://xarray.pydata.org/en/stable/user-guide/io.html \u001b[39m\u001b[38;5;130;01m\\n\u001b[39;00m\u001b[38;5;124m\"\u001b[39m\n\u001b[1;32m    149\u001b[0m         \u001b[38;5;124m\"\u001b[39m\u001b[38;5;124mhttp://xarray.pydata.org/en/stable/getting-started-guide/installing.html\u001b[39m\u001b[38;5;124m\"\u001b[39m\n\u001b[1;32m    150\u001b[0m     )\n\u001b[0;32m--> 152\u001b[0m \u001b[38;5;28;01mraise\u001b[39;00m \u001b[38;5;167;01mValueError\u001b[39;00m(error_msg)\n",
      "\u001b[0;31mValueError\u001b[0m: found the following matches with the input file in xarray's IO backends: ['cfgrib']. But their dependencies may not be installed, see:\nhttp://xarray.pydata.org/en/stable/user-guide/io.html \nhttp://xarray.pydata.org/en/stable/getting-started-guide/installing.html"
     ]
    }
   ],
   "source": [
    "xr.load_dataset(\"ERA5-Land/adaptor.mars.internal-1717433307.8303945-4823-1-5f80d3ef-530c-474e-8510-ff88a56fdd46.grib\",engine='cfgrib')"
   ]
  }
 ],
 "metadata": {
  "kernelspec": {
   "display_name": "Python 3 (ipykernel)",
   "language": "python",
   "name": "python3"
  },
  "language_info": {
   "codemirror_mode": {
    "name": "ipython",
    "version": 3
   },
   "file_extension": ".py",
   "mimetype": "text/x-python",
   "name": "python",
   "nbconvert_exporter": "python",
   "pygments_lexer": "ipython3",
   "version": "3.9.13"
  }
 },
 "nbformat": 4,
 "nbformat_minor": 5
}
